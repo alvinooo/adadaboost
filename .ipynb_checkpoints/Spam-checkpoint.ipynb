{
 "cells": [
  {
   "cell_type": "code",
   "execution_count": 1,
   "metadata": {
    "collapsed": true
   },
   "outputs": [],
   "source": [
    "import numpy as np"
   ]
  },
  {
   "cell_type": "code",
   "execution_count": 35,
   "metadata": {
    "collapsed": true
   },
   "outputs": [],
   "source": [
    "train_data, train_labels = [], []\n",
    "test_data, test_labels = [], []\n",
    "dictionary = []\n",
    "\n",
    "with open(\"hw6train.txt\") as train:\n",
    "    for email in train.readlines():\n",
    "        point = [int(n) for n in email.split()]\n",
    "        train_data.append(point[:-1])\n",
    "        train_labels.append(point[-1])\n",
    "\n",
    "with open(\"hw6test.txt\") as test:\n",
    "    for email in test.readlines():\n",
    "        point = [int(n) for n in email.split()]\n",
    "        test_data.append(point[:-1])\n",
    "        test_labels.append(point[:-1])\n",
    "\n",
    "with open(\"hw6dictionary.txt\") as d:\n",
    "    dictionary = [email.rstrip() for email in d.readlines()]"
   ]
  },
  {
   "cell_type": "code",
   "execution_count": null,
   "metadata": {
    "collapsed": true
   },
   "outputs": [],
   "source": []
  },
  {
   "cell_type": "code",
   "execution_count": 34,
   "metadata": {
    "collapsed": false
   },
   "outputs": [],
   "source": [
    "def adaboost(data, labels):\n",
    "    weights = [1.0 / len(data) for _ in data]"
   ]
  },
  {
   "cell_type": "code",
   "execution_count": null,
   "metadata": {
    "collapsed": true
   },
   "outputs": [],
   "source": []
  },
  {
   "cell_type": "code",
   "execution_count": 33,
   "metadata": {
    "collapsed": true
   },
   "outputs": [],
   "source": [
    "def get_best_classifier_and_error(weights, data, labels):\n",
    "    classifier, error = None, 1\n",
    "    for weight, point in zip(weights, data):\n",
    "        pass\n",
    "    return classifier, error"
   ]
  },
  {
   "cell_type": "code",
   "execution_count": null,
   "metadata": {
    "collapsed": true
   },
   "outputs": [],
   "source": []
  }
 ],
 "metadata": {
  "kernelspec": {
   "display_name": "Python 2",
   "language": "python",
   "name": "python2"
  },
  "language_info": {
   "codemirror_mode": {
    "name": "ipython",
    "version": 2
   },
   "file_extension": ".py",
   "mimetype": "text/x-python",
   "name": "python",
   "nbconvert_exporter": "python",
   "pygments_lexer": "ipython2",
   "version": "2.7.13"
  }
 },
 "nbformat": 4,
 "nbformat_minor": 2
}
